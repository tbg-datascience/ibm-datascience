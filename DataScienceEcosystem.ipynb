{
 "cells": [
  {
   "cell_type": "markdown",
   "id": "d70e2d23-b826-40c0-a33c-a67f1888f318",
   "metadata": {},
   "source": [
    "# Data Science Tools and Ecosystem"
   ]
  },
  {
   "cell_type": "markdown",
   "id": "afe83080-89d1-46c8-984e-a9e8dac5be61",
   "metadata": {},
   "source": [
    "In this notebook, Data Science Tools and Ecosystem are summarized."
   ]
  },
  {
   "cell_type": "markdown",
   "id": "5655efe3-cbc4-4f76-b96a-023ff6c225b0",
   "metadata": {},
   "source": [
    "Objectives:\n",
    "* learn about tools in data science\n",
    "* learn about software\n",
    "* learn about cloud solutions\n",
    "* list popular languages\n",
    "* list popular licenzed software"
   ]
  },
  {
   "cell_type": "markdown",
   "id": "80c9446a-67ab-49c8-9b40-ca4487dd1d24",
   "metadata": {},
   "source": [
    "Some of the popular languages that Data Scientists use are:\n",
    "1. Python\n",
    "2. R\n",
    "3. SQL"
   ]
  },
  {
   "cell_type": "markdown",
   "id": "c7230657-f69d-4125-8140-6a5f8214e868",
   "metadata": {},
   "source": [
    "Some of the commonly used libraries used by Data Scientists include:\n",
    "1. Pandas\n",
    "2. NumPy\n",
    "3. TensorFlow\n"
   ]
  },
  {
   "cell_type": "markdown",
   "id": "5da30d31-50d3-4bae-bf20-be8789f8812d",
   "metadata": {},
   "source": [
    "Data Science Tools |\n",
    "- |\n",
    "Jupyter Notebook |\n",
    "VS Code |\n",
    "Spyder |\n"
   ]
  },
  {
   "cell_type": "markdown",
   "id": "8f6399a0-3679-4d0e-8977-ccba02d7d4fb",
   "metadata": {},
   "source": [
    "### Below are a few examples of evaluating arithmetic expressions in Python"
   ]
  },
  {
   "cell_type": "code",
   "execution_count": 3,
   "id": "32f0c34d-0a22-4d52-8c58-0e7c40842836",
   "metadata": {},
   "outputs": [
    {
     "data": {
      "text/plain": [
       "17"
      ]
     },
     "execution_count": 3,
     "metadata": {},
     "output_type": "execute_result"
    }
   ],
   "source": [
    "(3*4)+5"
   ]
  },
  {
   "cell_type": "code",
   "execution_count": 4,
   "id": "dd233e1d-0bb2-42e4-8485-e1f0acb6bfdc",
   "metadata": {},
   "outputs": [
    {
     "name": "stdout",
     "output_type": "stream",
     "text": [
      "3.3333333333333335\n"
     ]
    }
   ],
   "source": [
    "# This will convert 200 minutes to hours by diving by 60\n",
    "minutes = 200\n",
    "hours = minutes/60\n",
    "print(hours)"
   ]
  },
  {
   "cell_type": "markdown",
   "id": "21e154f3-fe8d-4be2-9da3-e040515ccd2a",
   "metadata": {},
   "source": [
    "## Author\n",
    "Sebastian"
   ]
  },
  {
   "cell_type": "code",
   "execution_count": null,
   "id": "5818d43a-3278-4374-b46d-16e961946e4c",
   "metadata": {},
   "outputs": [],
   "source": []
  }
 ],
 "metadata": {
  "kernelspec": {
   "display_name": "Python 3 (ipykernel)",
   "language": "python",
   "name": "python3"
  },
  "language_info": {
   "codemirror_mode": {
    "name": "ipython",
    "version": 3
   },
   "file_extension": ".py",
   "mimetype": "text/x-python",
   "name": "python",
   "nbconvert_exporter": "python",
   "pygments_lexer": "ipython3",
   "version": "3.11.9"
  }
 },
 "nbformat": 4,
 "nbformat_minor": 5
}
